{
 "cells": [
  {
   "cell_type": "code",
   "execution_count": 15,
   "metadata": {},
   "outputs": [
    {
     "name": "stdout",
     "output_type": "stream",
     "text": [
      "6 x 5 = 5 + 5 + 5 + 5 + 5 + 5 = 30\n",
      "10 x 7 = 7 + 7 + 7 + 7 + 7 + 7 + 7 + 7 + 7 + 7 = 70\n",
      "8 x 4 = 4 + 4 + 4 + 4 + 4 + 4 + 4 + 4 = 32\n"
     ]
    }
   ],
   "source": [
    "#Soal 5-1\n",
    "def perkalian(c, z):\n",
    "   jumlah = 0\n",
    "   for i in range(z):\n",
    "       jumlah += c\n",
    "       if i < z - 1:\n",
    "           hasil = f\"{c} + \"\n",
    "       else:\n",
    "           hasil = \"\"\n",
    "   return (f\"{z} x {c} = {f\"{c} + \" * (z-1)}{c} = {jumlah}\")\n",
    "\n",
    "#test case\n",
    "print(perkalian(5,6))\n",
    "print(perkalian(7,10))\n",
    "print(perkalian(4,8))"
   ]
  },
  {
   "cell_type": "code",
   "execution_count": 1,
   "metadata": {},
   "outputs": [
    {
     "name": "stdout",
     "output_type": "stream",
     "text": [
      "test case 1:\n",
      "11, 13, 15, 17, 19, 21, 23, 25, 27, 29, \n",
      "test case 2:\n",
      "97, 95, 93, 91, 89, 87, 85, 83, \n",
      "test case 3:\n",
      "41, 43, 45, 47, 49, 51, \n",
      "test case 4:\n",
      "87, 85, 83, 81, 79, 77, 75, 73, 71, 69, "
     ]
    }
   ],
   "source": [
    "#5-2\n",
    "def ganjil(batas_bawah, batas_atas):\n",
    "    if batas_bawah < batas_atas:\n",
    "        #arah deret dari kecil ke besar\n",
    "        for i in range(batas_bawah, batas_atas+1):\n",
    "            if i % 2 == 1:\n",
    "                print(i, end=\", \")\n",
    "    else:\n",
    "        #arah deret dari besar ke kecil\n",
    "        for i in range(batas_bawah, batas_atas,-1):\n",
    "            if i % 2 == 1:    \n",
    "                print(i, end=\", \")\n",
    "\n",
    "#test case\n",
    "print(\"test case 1:\")\n",
    "ganjil(10, 30)\n",
    "print(\"\\ntest case 2:\")\n",
    "ganjil(97, 82)\n",
    "print(\"\\ntest case 3:\")\n",
    "ganjil(41,51)\n",
    "print(\"\\ntest case 4:\")\n",
    "ganjil(88,67)"
   ]
  },
  {
   "cell_type": "code",
   "execution_count": 27,
   "metadata": {},
   "outputs": [
    {
     "name": "stdout",
     "output_type": "stream",
     "text": [
      "IPS anda semester ini adalah 3.00\n"
     ]
    }
   ],
   "source": [
    "#Soal 5-3\n",
    "def hitungips(matkul):\n",
    "    total_sks = matkul*3\n",
    "    bobot = 0\n",
    "\n",
    "    for i in range(1, matkul + 1):\n",
    "        nilai = input(f\"masukkan nilai matkul ke-{i}: \").upper()\n",
    "        if nilai == 'A':\n",
    "            bobot += 4*3\n",
    "        elif nilai == 'B':\n",
    "            bobot += 3*3\n",
    "        elif nilai == 'C':\n",
    "            bobot += 2*3\n",
    "        elif nilai == 'D':\n",
    "            bobot += 1*3\n",
    "        else:\n",
    "            print(\"Nilai tidak valid. Nilai berupa A, B, C, atau D.\")\n",
    "\n",
    "    ips = bobot / total_sks\n",
    "    return ips\n",
    "\n",
    "def main():\n",
    "    matkul = int(input(\"masukkan jumlah matkul: \"))\n",
    "    ips = hitungips(matkul)\n",
    "    print(f\"IPS anda semester ini adalah {ips:.2f}\")\n",
    "\n",
    "if __name__ == \"__main__\":\n",
    "    main()"
   ]
  }
 ],
 "metadata": {
  "kernelspec": {
   "display_name": "Python 3",
   "language": "python",
   "name": "python3"
  },
  "language_info": {
   "codemirror_mode": {
    "name": "ipython",
    "version": 3
   },
   "file_extension": ".py",
   "mimetype": "text/x-python",
   "name": "python",
   "nbconvert_exporter": "python",
   "pygments_lexer": "ipython3",
   "version": "3.12.0"
  }
 },
 "nbformat": 4,
 "nbformat_minor": 2
}
